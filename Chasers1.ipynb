{
  "nbformat": 4,
  "nbformat_minor": 0,
  "metadata": {
    "colab": {
      "name": "Chasers1.ipynb",
      "provenance": [],
      "authorship_tag": "ABX9TyO01Zt8RYBTsQL/LGWBiFXk",
      "include_colab_link": true
    },
    "kernelspec": {
      "name": "python3",
      "display_name": "Python 3"
    },
    "language_info": {
      "name": "python"
    }
  },
  "cells": [
    {
      "cell_type": "markdown",
      "metadata": {
        "id": "view-in-github",
        "colab_type": "text"
      },
      "source": [
        "<a href=\"https://colab.research.google.com/github/JohanBlanco1099/Chasers/blob/main/Chasers1.ipynb\" target=\"_parent\"><img src=\"https://colab.research.google.com/assets/colab-badge.svg\" alt=\"Open In Colab\"/></a>"
      ]
    },
    {
      "cell_type": "code",
      "execution_count": 1,
      "metadata": {
        "colab": {
          "base_uri": "https://localhost:8080/"
        },
        "id": "WtA5H4OX_u0R",
        "outputId": "ef99be3b-7de4-4a06-b9bc-2161054e2e7b"
      },
      "outputs": [
        {
          "output_type": "stream",
          "name": "stdout",
          "text": [
            "Pongan atencion panas\n"
          ]
        }
      ],
      "source": [
        "print(\"Pongan atencion panas\")"
      ]
    }
  ]
}
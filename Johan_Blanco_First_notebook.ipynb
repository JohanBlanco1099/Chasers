{
  "nbformat": 4,
  "nbformat_minor": 0,
  "metadata": {
    "colab": {
      "name": "Johan_Blanco_First_notebook.ipynb",
      "provenance": [],
      "collapsed_sections": [],
      "authorship_tag": "ABX9TyM4STpu+2u4YQ9OK92cY2QJ",
      "include_colab_link": true
    },
    "kernelspec": {
      "name": "python3",
      "display_name": "Python 3"
    },
    "language_info": {
      "name": "python"
    }
  },
  "cells": [
    {
      "cell_type": "markdown",
      "metadata": {
        "id": "view-in-github",
        "colab_type": "text"
      },
      "source": [
        "<a href=\"https://colab.research.google.com/github/JohanBlanco1099/Chasers/blob/main/Johan_Blanco_First_notebook.ipynb\" target=\"_parent\"><img src=\"https://colab.research.google.com/assets/colab-badge.svg\" alt=\"Open In Colab\"/></a>"
      ]
    },
    {
      "cell_type": "markdown",
      "source": [
        "# Laboratorio Inicial de Colab"
      ],
      "metadata": {
        "id": "CdpkDmqKCGH_"
      }
    },
    {
      "cell_type": "markdown",
      "source": [
        "### Johan Blanco Gonzalez"
      ],
      "metadata": {
        "id": "Z4WMekoQCN52"
      }
    },
    {
      "cell_type": "code",
      "source": [
        "import pandas as pd\n",
        "\n",
        "from google.colab import auth\n",
        "auth.authenticate_user()\n",
        "\n",
        "import gspread\n",
        "from google.auth import default\n",
        "creds, _ = default()\n",
        "\n",
        "gc=gspread.authorize(creds)\n",
        "sh=gc.create('spreadsheet')"
      ],
      "metadata": {
        "id": "9qFuMKbcCSql"
      },
      "execution_count": 4,
      "outputs": []
    },
    {
      "cell_type": "code",
      "source": [
        "worksheet = gc.open('spreadsheet').sheet1\n",
        "\n",
        "cell_list = worksheet.range('A1:G14')\n",
        "\n",
        "import random\n",
        "for cell in cell_list:\n",
        "  cell.value = random.randint(1,10)\n",
        "\n",
        "worksheet.update_cells(cell_list)"
      ],
      "metadata": {
        "colab": {
          "base_uri": "https://localhost:8080/"
        },
        "id": "2ei600sMEu8R",
        "outputId": "9cb11f73-74a8-4cf5-dd03-a70ee3dd6f4c"
      },
      "execution_count": 5,
      "outputs": [
        {
          "output_type": "execute_result",
          "data": {
            "text/plain": [
              "{'spreadsheetId': '1VByHSYO-xLPHhJgSIl_0lEvOA6OSi4ZpRhNfvbRHx68',\n",
              " 'updatedCells': 98,\n",
              " 'updatedColumns': 7,\n",
              " 'updatedRange': \"'Hoja 1'!A1:G14\",\n",
              " 'updatedRows': 14}"
            ]
          },
          "metadata": {},
          "execution_count": 5
        }
      ]
    },
    {
      "cell_type": "code",
      "source": [
        "worksheet = gc.open('spreadsheet').sheet1\n",
        "rows = worksheet.get_all_values()\n",
        "print(rows)"
      ],
      "metadata": {
        "colab": {
          "base_uri": "https://localhost:8080/"
        },
        "id": "04lzyIt5H8D7",
        "outputId": "f384ff29-6c0a-4038-856b-fb5c9cd679ad"
      },
      "execution_count": 6,
      "outputs": [
        {
          "output_type": "stream",
          "name": "stdout",
          "text": [
            "[['10', '10', '10', '1', '3', '6', '5'], ['4', '7', '9', '9', '8', '6', '3'], ['8', '4', '5', '8', '3', '7', '6'], ['9', '3', '3', '1', '9', '1', '1'], ['7', '6', '3', '1', '3', '9', '9'], ['5', '10', '6', '7', '1', '5', '1'], ['3', '3', '8', '4', '8', '10', '2'], ['7', '3', '4', '9', '5', '6', '8'], ['7', '1', '8', '8', '5', '9', '5'], ['2', '1', '1', '2', '8', '2', '3'], ['4', '8', '3', '10', '2', '5', '2'], ['6', '2', '2', '4', '5', '10', '5'], ['1', '7', '7', '6', '4', '6', '9'], ['10', '10', '10', '5', '1', '7', '8']]\n"
          ]
        }
      ]
    }
  ]
}